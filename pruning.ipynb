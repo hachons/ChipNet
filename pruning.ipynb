{
  "nbformat": 4,
  "nbformat_minor": 0,
  "metadata": {
    "colab": {
      "name": "pruning.ipynb",
      "provenance": []
    },
    "kernelspec": {
      "name": "python3",
      "display_name": "Python 3"
    },
    "language_info": {
      "name": "python"
    },
    "accelerator": "GPU"
  },
  "cells": [
    {
      "cell_type": "code",
      "source": [
        "from google.colab import drive\n",
        "drive.mount('/content/drive')"
      ],
      "metadata": {
        "colab": {
          "base_uri": "https://localhost:8080/"
        },
        "id": "pMRbxo6igOEE",
        "outputId": "461960ba-e2bf-4060-a0e5-e73241eec1aa"
      },
      "execution_count": 1,
      "outputs": [
        {
          "output_type": "stream",
          "name": "stdout",
          "text": [
            "Drive already mounted at /content/drive; to attempt to forcibly remount, call drive.mount(\"/content/drive\", force_remount=True).\n"
          ]
        }
      ]
    },
    {
      "cell_type": "code",
      "source": [
        "%cd /content/drive/MyDrive/Transmute.AI/ChipNet/ChipNet-master"
      ],
      "metadata": {
        "colab": {
          "base_uri": "https://localhost:8080/"
        },
        "id": "sgU85OOCgVbd",
        "outputId": "82b5db12-491e-478f-b877-fd9b949a2b60"
      },
      "execution_count": 2,
      "outputs": [
        {
          "output_type": "stream",
          "name": "stdout",
          "text": [
            "/content/drive/MyDrive/Transmute.AI/ChipNet/ChipNet-master\n"
          ]
        }
      ]
    },
    {
      "cell_type": "code",
      "source": [
        "import sys\n",
        "sys.path.append('/content/drive/MyDrive/Transmute.AI/ChipNet/ChipNet-master')"
      ],
      "metadata": {
        "id": "g0pZdfaugcG8"
      },
      "execution_count": 3,
      "outputs": []
    },
    {
      "cell_type": "code",
      "execution_count": 4,
      "metadata": {
        "id": "xv2dRE-dgE9J"
      },
      "outputs": [],
      "source": [
        "import argparse\n",
        "import os\n",
        "\n",
        "import torch\n",
        "import numpy as np\n",
        "import pandas as pd\n",
        "import torch.nn as nn\n",
        "import torch.optim as optim\n",
        "from tqdm import tqdm as tqdm_notebook\n",
        "\n",
        "from utils import *\n",
        "from models import get_model\n",
        "from datasets import DataManager"
      ]
    },
    {
      "cell_type": "code",
      "source": [
        "seed_everything(43)"
      ],
      "metadata": {
        "id": "EVgPB7oBgMxH"
      },
      "execution_count": 5,
      "outputs": []
    },
    {
      "cell_type": "code",
      "source": [
        "dataset = 'c100'\n",
        "model = 'r164'\n",
        "budget_type = 'channel_ratio'\n",
        "Vc = 0.25\n",
        "batch_size = 32\n",
        "epochs = 5\n",
        "workers = 0\n",
        "valid_size = 0.1\n",
        "lr = 0.001\n",
        "test_only = False\n",
        "\n",
        "decay = 0.001\n",
        "w1 = 30.\n",
        "w2 = 10.\n",
        "b_inc = 5.\n",
        "g_inc = 2.\n",
        "\n",
        "cuda_id = 0"
      ],
      "metadata": {
        "id": "HEc309mYgrH4"
      },
      "execution_count": 7,
      "outputs": []
    },
    {
      "cell_type": "code",
      "source": [
        "Vc = torch.FloatTensor([Vc])"
      ],
      "metadata": {
        "id": "KewSK44plq47"
      },
      "execution_count": 8,
      "outputs": []
    },
    {
      "cell_type": "code",
      "source": [
        "data_object = DataManager(dataset, batch_size, workers, valid_size)\n",
        "trainloader, valloader, testloader = data_object.prepare_data()\n",
        "dataloaders = {\n",
        "        'train': trainloader, 'val': valloader, \"test\": testloader\n",
        "}"
      ],
      "metadata": {
        "colab": {
          "base_uri": "https://localhost:8080/"
        },
        "id": "Q1vN3oGDl1D8",
        "outputId": "00e93bbc-40c7-40f8-e183-d9b79d29e553"
      },
      "execution_count": 9,
      "outputs": [
        {
          "output_type": "stream",
          "name": "stdout",
          "text": [
            "... Preparing data ...\n",
            "Files already downloaded and verified\n",
            "Files already downloaded and verified\n",
            "Files already downloaded and verified\n",
            "using fixed split\n",
            "45000 5000\n"
          ]
        }
      ]
    },
    {
      "cell_type": "code",
      "source": [
        "model = get_model(model, 'prune', data_object.num_classes, data_object.insize)\n",
        "state = torch.load(f\"checkpoints/r164_c10_pretrained.pth\")\n",
        "model.load_state_dict(state['state_dict'], strict=False)"
      ],
      "metadata": {
        "colab": {
          "base_uri": "https://localhost:8080/"
        },
        "id": "MHVsF3-TmIDW",
        "outputId": "9c60d25a-4d7d-4b3a-8990-5bf7bb929086"
      },
      "execution_count": 10,
      "outputs": [
        {
          "output_type": "execute_result",
          "data": {
            "text/plain": [
              "_IncompatibleKeys(missing_keys=['layer1.0.bn1.zeta', 'layer1.0.bn1.beta', 'layer1.0.bn1.gamma', 'layer1.0.bn2.zeta', 'layer1.0.bn2.beta', 'layer1.0.bn2.gamma', 'layer1.0.bn3.zeta', 'layer1.0.bn3.beta', 'layer1.0.bn3.gamma', 'layer1.1.bn1.zeta', 'layer1.1.bn1.beta', 'layer1.1.bn1.gamma', 'layer1.1.bn2.zeta', 'layer1.1.bn2.beta', 'layer1.1.bn2.gamma', 'layer1.1.bn3.zeta', 'layer1.1.bn3.beta', 'layer1.1.bn3.gamma', 'layer1.2.bn1.zeta', 'layer1.2.bn1.beta', 'layer1.2.bn1.gamma', 'layer1.2.bn2.zeta', 'layer1.2.bn2.beta', 'layer1.2.bn2.gamma', 'layer1.2.bn3.zeta', 'layer1.2.bn3.beta', 'layer1.2.bn3.gamma', 'layer1.3.bn1.zeta', 'layer1.3.bn1.beta', 'layer1.3.bn1.gamma', 'layer1.3.bn2.zeta', 'layer1.3.bn2.beta', 'layer1.3.bn2.gamma', 'layer1.3.bn3.zeta', 'layer1.3.bn3.beta', 'layer1.3.bn3.gamma', 'layer1.4.bn1.zeta', 'layer1.4.bn1.beta', 'layer1.4.bn1.gamma', 'layer1.4.bn2.zeta', 'layer1.4.bn2.beta', 'layer1.4.bn2.gamma', 'layer1.4.bn3.zeta', 'layer1.4.bn3.beta', 'layer1.4.bn3.gamma', 'layer1.5.bn1.zeta', 'layer1.5.bn1.beta', 'layer1.5.bn1.gamma', 'layer1.5.bn2.zeta', 'layer1.5.bn2.beta', 'layer1.5.bn2.gamma', 'layer1.5.bn3.zeta', 'layer1.5.bn3.beta', 'layer1.5.bn3.gamma', 'layer1.6.bn1.zeta', 'layer1.6.bn1.beta', 'layer1.6.bn1.gamma', 'layer1.6.bn2.zeta', 'layer1.6.bn2.beta', 'layer1.6.bn2.gamma', 'layer1.6.bn3.zeta', 'layer1.6.bn3.beta', 'layer1.6.bn3.gamma', 'layer1.7.bn1.zeta', 'layer1.7.bn1.beta', 'layer1.7.bn1.gamma', 'layer1.7.bn2.zeta', 'layer1.7.bn2.beta', 'layer1.7.bn2.gamma', 'layer1.7.bn3.zeta', 'layer1.7.bn3.beta', 'layer1.7.bn3.gamma', 'layer1.8.bn1.zeta', 'layer1.8.bn1.beta', 'layer1.8.bn1.gamma', 'layer1.8.bn2.zeta', 'layer1.8.bn2.beta', 'layer1.8.bn2.gamma', 'layer1.8.bn3.zeta', 'layer1.8.bn3.beta', 'layer1.8.bn3.gamma', 'layer1.9.bn1.zeta', 'layer1.9.bn1.beta', 'layer1.9.bn1.gamma', 'layer1.9.bn2.zeta', 'layer1.9.bn2.beta', 'layer1.9.bn2.gamma', 'layer1.9.bn3.zeta', 'layer1.9.bn3.beta', 'layer1.9.bn3.gamma', 'layer1.10.bn1.zeta', 'layer1.10.bn1.beta', 'layer1.10.bn1.gamma', 'layer1.10.bn2.zeta', 'layer1.10.bn2.beta', 'layer1.10.bn2.gamma', 'layer1.10.bn3.zeta', 'layer1.10.bn3.beta', 'layer1.10.bn3.gamma', 'layer1.11.bn1.zeta', 'layer1.11.bn1.beta', 'layer1.11.bn1.gamma', 'layer1.11.bn2.zeta', 'layer1.11.bn2.beta', 'layer1.11.bn2.gamma', 'layer1.11.bn3.zeta', 'layer1.11.bn3.beta', 'layer1.11.bn3.gamma', 'layer1.12.bn1.zeta', 'layer1.12.bn1.beta', 'layer1.12.bn1.gamma', 'layer1.12.bn2.zeta', 'layer1.12.bn2.beta', 'layer1.12.bn2.gamma', 'layer1.12.bn3.zeta', 'layer1.12.bn3.beta', 'layer1.12.bn3.gamma', 'layer1.13.bn1.zeta', 'layer1.13.bn1.beta', 'layer1.13.bn1.gamma', 'layer1.13.bn2.zeta', 'layer1.13.bn2.beta', 'layer1.13.bn2.gamma', 'layer1.13.bn3.zeta', 'layer1.13.bn3.beta', 'layer1.13.bn3.gamma', 'layer1.14.bn1.zeta', 'layer1.14.bn1.beta', 'layer1.14.bn1.gamma', 'layer1.14.bn2.zeta', 'layer1.14.bn2.beta', 'layer1.14.bn2.gamma', 'layer1.14.bn3.zeta', 'layer1.14.bn3.beta', 'layer1.14.bn3.gamma', 'layer1.15.bn1.zeta', 'layer1.15.bn1.beta', 'layer1.15.bn1.gamma', 'layer1.15.bn2.zeta', 'layer1.15.bn2.beta', 'layer1.15.bn2.gamma', 'layer1.15.bn3.zeta', 'layer1.15.bn3.beta', 'layer1.15.bn3.gamma', 'layer1.16.bn1.zeta', 'layer1.16.bn1.beta', 'layer1.16.bn1.gamma', 'layer1.16.bn2.zeta', 'layer1.16.bn2.beta', 'layer1.16.bn2.gamma', 'layer1.16.bn3.zeta', 'layer1.16.bn3.beta', 'layer1.16.bn3.gamma', 'layer1.17.bn1.zeta', 'layer1.17.bn1.beta', 'layer1.17.bn1.gamma', 'layer1.17.bn2.zeta', 'layer1.17.bn2.beta', 'layer1.17.bn2.gamma', 'layer1.17.bn3.zeta', 'layer1.17.bn3.beta', 'layer1.17.bn3.gamma', 'layer2.0.bn1.zeta', 'layer2.0.bn1.beta', 'layer2.0.bn1.gamma', 'layer2.0.bn2.zeta', 'layer2.0.bn2.beta', 'layer2.0.bn2.gamma', 'layer2.0.bn3.zeta', 'layer2.0.bn3.beta', 'layer2.0.bn3.gamma', 'layer2.1.bn1.zeta', 'layer2.1.bn1.beta', 'layer2.1.bn1.gamma', 'layer2.1.bn2.zeta', 'layer2.1.bn2.beta', 'layer2.1.bn2.gamma', 'layer2.1.bn3.zeta', 'layer2.1.bn3.beta', 'layer2.1.bn3.gamma', 'layer2.2.bn1.zeta', 'layer2.2.bn1.beta', 'layer2.2.bn1.gamma', 'layer2.2.bn2.zeta', 'layer2.2.bn2.beta', 'layer2.2.bn2.gamma', 'layer2.2.bn3.zeta', 'layer2.2.bn3.beta', 'layer2.2.bn3.gamma', 'layer2.3.bn1.zeta', 'layer2.3.bn1.beta', 'layer2.3.bn1.gamma', 'layer2.3.bn2.zeta', 'layer2.3.bn2.beta', 'layer2.3.bn2.gamma', 'layer2.3.bn3.zeta', 'layer2.3.bn3.beta', 'layer2.3.bn3.gamma', 'layer2.4.bn1.zeta', 'layer2.4.bn1.beta', 'layer2.4.bn1.gamma', 'layer2.4.bn2.zeta', 'layer2.4.bn2.beta', 'layer2.4.bn2.gamma', 'layer2.4.bn3.zeta', 'layer2.4.bn3.beta', 'layer2.4.bn3.gamma', 'layer2.5.bn1.zeta', 'layer2.5.bn1.beta', 'layer2.5.bn1.gamma', 'layer2.5.bn2.zeta', 'layer2.5.bn2.beta', 'layer2.5.bn2.gamma', 'layer2.5.bn3.zeta', 'layer2.5.bn3.beta', 'layer2.5.bn3.gamma', 'layer2.6.bn1.zeta', 'layer2.6.bn1.beta', 'layer2.6.bn1.gamma', 'layer2.6.bn2.zeta', 'layer2.6.bn2.beta', 'layer2.6.bn2.gamma', 'layer2.6.bn3.zeta', 'layer2.6.bn3.beta', 'layer2.6.bn3.gamma', 'layer2.7.bn1.zeta', 'layer2.7.bn1.beta', 'layer2.7.bn1.gamma', 'layer2.7.bn2.zeta', 'layer2.7.bn2.beta', 'layer2.7.bn2.gamma', 'layer2.7.bn3.zeta', 'layer2.7.bn3.beta', 'layer2.7.bn3.gamma', 'layer2.8.bn1.zeta', 'layer2.8.bn1.beta', 'layer2.8.bn1.gamma', 'layer2.8.bn2.zeta', 'layer2.8.bn2.beta', 'layer2.8.bn2.gamma', 'layer2.8.bn3.zeta', 'layer2.8.bn3.beta', 'layer2.8.bn3.gamma', 'layer2.9.bn1.zeta', 'layer2.9.bn1.beta', 'layer2.9.bn1.gamma', 'layer2.9.bn2.zeta', 'layer2.9.bn2.beta', 'layer2.9.bn2.gamma', 'layer2.9.bn3.zeta', 'layer2.9.bn3.beta', 'layer2.9.bn3.gamma', 'layer2.10.bn1.zeta', 'layer2.10.bn1.beta', 'layer2.10.bn1.gamma', 'layer2.10.bn2.zeta', 'layer2.10.bn2.beta', 'layer2.10.bn2.gamma', 'layer2.10.bn3.zeta', 'layer2.10.bn3.beta', 'layer2.10.bn3.gamma', 'layer2.11.bn1.zeta', 'layer2.11.bn1.beta', 'layer2.11.bn1.gamma', 'layer2.11.bn2.zeta', 'layer2.11.bn2.beta', 'layer2.11.bn2.gamma', 'layer2.11.bn3.zeta', 'layer2.11.bn3.beta', 'layer2.11.bn3.gamma', 'layer2.12.bn1.zeta', 'layer2.12.bn1.beta', 'layer2.12.bn1.gamma', 'layer2.12.bn2.zeta', 'layer2.12.bn2.beta', 'layer2.12.bn2.gamma', 'layer2.12.bn3.zeta', 'layer2.12.bn3.beta', 'layer2.12.bn3.gamma', 'layer2.13.bn1.zeta', 'layer2.13.bn1.beta', 'layer2.13.bn1.gamma', 'layer2.13.bn2.zeta', 'layer2.13.bn2.beta', 'layer2.13.bn2.gamma', 'layer2.13.bn3.zeta', 'layer2.13.bn3.beta', 'layer2.13.bn3.gamma', 'layer2.14.bn1.zeta', 'layer2.14.bn1.beta', 'layer2.14.bn1.gamma', 'layer2.14.bn2.zeta', 'layer2.14.bn2.beta', 'layer2.14.bn2.gamma', 'layer2.14.bn3.zeta', 'layer2.14.bn3.beta', 'layer2.14.bn3.gamma', 'layer2.15.bn1.zeta', 'layer2.15.bn1.beta', 'layer2.15.bn1.gamma', 'layer2.15.bn2.zeta', 'layer2.15.bn2.beta', 'layer2.15.bn2.gamma', 'layer2.15.bn3.zeta', 'layer2.15.bn3.beta', 'layer2.15.bn3.gamma', 'layer2.16.bn1.zeta', 'layer2.16.bn1.beta', 'layer2.16.bn1.gamma', 'layer2.16.bn2.zeta', 'layer2.16.bn2.beta', 'layer2.16.bn2.gamma', 'layer2.16.bn3.zeta', 'layer2.16.bn3.beta', 'layer2.16.bn3.gamma', 'layer2.17.bn1.zeta', 'layer2.17.bn1.beta', 'layer2.17.bn1.gamma', 'layer2.17.bn2.zeta', 'layer2.17.bn2.beta', 'layer2.17.bn2.gamma', 'layer2.17.bn3.zeta', 'layer2.17.bn3.beta', 'layer2.17.bn3.gamma', 'layer3.0.bn1.zeta', 'layer3.0.bn1.beta', 'layer3.0.bn1.gamma', 'layer3.0.bn2.zeta', 'layer3.0.bn2.beta', 'layer3.0.bn2.gamma', 'layer3.0.bn3.zeta', 'layer3.0.bn3.beta', 'layer3.0.bn3.gamma', 'layer3.1.bn1.zeta', 'layer3.1.bn1.beta', 'layer3.1.bn1.gamma', 'layer3.1.bn2.zeta', 'layer3.1.bn2.beta', 'layer3.1.bn2.gamma', 'layer3.1.bn3.zeta', 'layer3.1.bn3.beta', 'layer3.1.bn3.gamma', 'layer3.2.bn1.zeta', 'layer3.2.bn1.beta', 'layer3.2.bn1.gamma', 'layer3.2.bn2.zeta', 'layer3.2.bn2.beta', 'layer3.2.bn2.gamma', 'layer3.2.bn3.zeta', 'layer3.2.bn3.beta', 'layer3.2.bn3.gamma', 'layer3.3.bn1.zeta', 'layer3.3.bn1.beta', 'layer3.3.bn1.gamma', 'layer3.3.bn2.zeta', 'layer3.3.bn2.beta', 'layer3.3.bn2.gamma', 'layer3.3.bn3.zeta', 'layer3.3.bn3.beta', 'layer3.3.bn3.gamma', 'layer3.4.bn1.zeta', 'layer3.4.bn1.beta', 'layer3.4.bn1.gamma', 'layer3.4.bn2.zeta', 'layer3.4.bn2.beta', 'layer3.4.bn2.gamma', 'layer3.4.bn3.zeta', 'layer3.4.bn3.beta', 'layer3.4.bn3.gamma', 'layer3.5.bn1.zeta', 'layer3.5.bn1.beta', 'layer3.5.bn1.gamma', 'layer3.5.bn2.zeta', 'layer3.5.bn2.beta', 'layer3.5.bn2.gamma', 'layer3.5.bn3.zeta', 'layer3.5.bn3.beta', 'layer3.5.bn3.gamma', 'layer3.6.bn1.zeta', 'layer3.6.bn1.beta', 'layer3.6.bn1.gamma', 'layer3.6.bn2.zeta', 'layer3.6.bn2.beta', 'layer3.6.bn2.gamma', 'layer3.6.bn3.zeta', 'layer3.6.bn3.beta', 'layer3.6.bn3.gamma', 'layer3.7.bn1.zeta', 'layer3.7.bn1.beta', 'layer3.7.bn1.gamma', 'layer3.7.bn2.zeta', 'layer3.7.bn2.beta', 'layer3.7.bn2.gamma', 'layer3.7.bn3.zeta', 'layer3.7.bn3.beta', 'layer3.7.bn3.gamma', 'layer3.8.bn1.zeta', 'layer3.8.bn1.beta', 'layer3.8.bn1.gamma', 'layer3.8.bn2.zeta', 'layer3.8.bn2.beta', 'layer3.8.bn2.gamma', 'layer3.8.bn3.zeta', 'layer3.8.bn3.beta', 'layer3.8.bn3.gamma', 'layer3.9.bn1.zeta', 'layer3.9.bn1.beta', 'layer3.9.bn1.gamma', 'layer3.9.bn2.zeta', 'layer3.9.bn2.beta', 'layer3.9.bn2.gamma', 'layer3.9.bn3.zeta', 'layer3.9.bn3.beta', 'layer3.9.bn3.gamma', 'layer3.10.bn1.zeta', 'layer3.10.bn1.beta', 'layer3.10.bn1.gamma', 'layer3.10.bn2.zeta', 'layer3.10.bn2.beta', 'layer3.10.bn2.gamma', 'layer3.10.bn3.zeta', 'layer3.10.bn3.beta', 'layer3.10.bn3.gamma', 'layer3.11.bn1.zeta', 'layer3.11.bn1.beta', 'layer3.11.bn1.gamma', 'layer3.11.bn2.zeta', 'layer3.11.bn2.beta', 'layer3.11.bn2.gamma', 'layer3.11.bn3.zeta', 'layer3.11.bn3.beta', 'layer3.11.bn3.gamma', 'layer3.12.bn1.zeta', 'layer3.12.bn1.beta', 'layer3.12.bn1.gamma', 'layer3.12.bn2.zeta', 'layer3.12.bn2.beta', 'layer3.12.bn2.gamma', 'layer3.12.bn3.zeta', 'layer3.12.bn3.beta', 'layer3.12.bn3.gamma', 'layer3.13.bn1.zeta', 'layer3.13.bn1.beta', 'layer3.13.bn1.gamma', 'layer3.13.bn2.zeta', 'layer3.13.bn2.beta', 'layer3.13.bn2.gamma', 'layer3.13.bn3.zeta', 'layer3.13.bn3.beta', 'layer3.13.bn3.gamma', 'layer3.14.bn1.zeta', 'layer3.14.bn1.beta', 'layer3.14.bn1.gamma', 'layer3.14.bn2.zeta', 'layer3.14.bn2.beta', 'layer3.14.bn2.gamma', 'layer3.14.bn3.zeta', 'layer3.14.bn3.beta', 'layer3.14.bn3.gamma', 'layer3.15.bn1.zeta', 'layer3.15.bn1.beta', 'layer3.15.bn1.gamma', 'layer3.15.bn2.zeta', 'layer3.15.bn2.beta', 'layer3.15.bn2.gamma', 'layer3.15.bn3.zeta', 'layer3.15.bn3.beta', 'layer3.15.bn3.gamma', 'layer3.16.bn1.zeta', 'layer3.16.bn1.beta', 'layer3.16.bn1.gamma', 'layer3.16.bn2.zeta', 'layer3.16.bn2.beta', 'layer3.16.bn2.gamma', 'layer3.16.bn3.zeta', 'layer3.16.bn3.beta', 'layer3.16.bn3.gamma', 'layer3.17.bn1.zeta', 'layer3.17.bn1.beta', 'layer3.17.bn1.gamma', 'layer3.17.bn2.zeta', 'layer3.17.bn2.beta', 'layer3.17.bn2.gamma', 'layer3.17.bn3.zeta', 'layer3.17.bn3.beta', 'layer3.17.bn3.gamma', 'bn.zeta', 'bn.beta', 'bn.gamma'], unexpected_keys=[])"
            ]
          },
          "metadata": {},
          "execution_count": 10
        }
      ]
    },
    {
      "cell_type": "code",
      "source": [
        "if os.path.exists('logs') == False:\n",
        "    os.mkdir(\"logs\")\n",
        "\n",
        "if os.path.exists('checkpoints') == False:\n",
        "    os.mkdir(\"checkpoints\")"
      ],
      "metadata": {
        "id": "IIwmgB5OmLlp"
      },
      "execution_count": 11,
      "outputs": []
    },
    {
      "cell_type": "code",
      "source": [
        "weightage1 = w1 #weightage given to budget loss\n",
        "weightage2 = w2 #weightage given to crispness loss\n",
        "steepness = 10. # steepness of gate_approximator\n"
      ],
      "metadata": {
        "id": "XwzbUvnWmfLg"
      },
      "execution_count": 12,
      "outputs": []
    },
    {
      "cell_type": "code",
      "source": [
        "CE = nn.CrossEntropyLoss()\n",
        "def criterion(model, y_pred, y_true):\n",
        "    global steepness\n",
        "    ce_loss = CE(y_pred, y_true)\n",
        "    budget_loss = ((model.get_remaining(steepness, budget_type).to(device)-Vc.to(device))**2).to(device)\n",
        "    crispness_loss =  model.get_crispnessLoss(device)\n",
        "    return budget_loss*weightage1 + crispness_loss*weightage2 + ce_loss"
      ],
      "metadata": {
        "id": "--24r5xCRbGn"
      },
      "execution_count": 19,
      "outputs": []
    },
    {
      "cell_type": "code",
      "source": [
        "param_optimizer = list(model.named_parameters())\n",
        "no_decay = [\"zeta\"]\n",
        "optimizer_parameters = [\n",
        "        {'params': [p for n, p in param_optimizer if not any(nd in n for nd in no_decay)], 'weight_decay': decay,'lr':lr},\n",
        "        {'params': [p for n, p in param_optimizer if any(nd in n for nd in no_decay)], 'weight_decay': 0.0,'lr':lr},\n",
        "    ]\n",
        "optimizer = optim.AdamW(optimizer_parameters)"
      ],
      "metadata": {
        "id": "CSakZglvRgKL"
      },
      "execution_count": 20,
      "outputs": []
    },
    {
      "cell_type": "code",
      "source": [
        "device = torch.device(f\"cuda:{str(cuda_id)}\")\n",
        "model.to(device)\n",
        "Vc.to(device)"
      ],
      "metadata": {
        "colab": {
          "base_uri": "https://localhost:8080/"
        },
        "id": "yLRBZhAdRjEO",
        "outputId": "766454f4-624d-4128-f1ac-3b3f6f05e2bd"
      },
      "execution_count": 21,
      "outputs": [
        {
          "output_type": "execute_result",
          "data": {
            "text/plain": [
              "tensor([0.2500], device='cuda:0')"
            ]
          },
          "metadata": {},
          "execution_count": 21
        }
      ]
    },
    {
      "cell_type": "code",
      "source": [
        "def train(model, loss_fn, optimizer, epoch):\n",
        "    global steepness\n",
        "    model.train()\n",
        "    counter = 0\n",
        "    tk1 = tqdm_notebook(dataloaders['train'], total=len(dataloaders['train']))\n",
        "    running_loss = 0\n",
        "    for x_var, y_var in tk1:\n",
        "        counter +=1\n",
        "        x_var = x_var.to(device=device)\n",
        "        y_var = y_var.to(device=device)\n",
        "        scores = model(x_var)\n",
        "        loss = loss_fn(model,scores, y_var)\n",
        "        optimizer.zero_grad()\n",
        "        loss.backward()\n",
        "        running_loss+=loss.item()\n",
        "        tk1.set_postfix(loss=running_loss/counter)\n",
        "        optimizer.step()\n",
        "        steepness=min(60,steepness+5./len(tk1))\n",
        "    return running_loss/counter"
      ],
      "metadata": {
        "id": "Rea2OO4xRrlr"
      },
      "execution_count": 22,
      "outputs": []
    },
    {
      "cell_type": "code",
      "source": [
        "def test(model, loss_fn, optimizer, phase, epoch):\n",
        "    model.eval()\n",
        "    counter = 0\n",
        "    tk1 = tqdm_notebook(dataloaders[phase], total=len(dataloaders[phase]))\n",
        "    running_loss = 0\n",
        "    running_acc = 0\n",
        "    total = 0\n",
        "    with torch.no_grad():\n",
        "        for x_var, y_var in tk1:\n",
        "            counter +=1\n",
        "            x_var = x_var.to(device=device)\n",
        "            y_var = y_var.to(device=device)\n",
        "            scores = model(x_var)\n",
        "            loss = loss_fn(model,scores, y_var)\n",
        "            _, scores = torch.max(scores.data, 1)\n",
        "            y_var = y_var.cpu().detach().numpy()\n",
        "            scores = scores.cpu().detach().numpy()\n",
        "            \n",
        "            correct = (scores == y_var).sum().item()\n",
        "            running_loss+=loss.item()\n",
        "            running_acc+=correct\n",
        "            total+=scores.shape[0]\n",
        "            tk1.set_postfix(loss=(running_loss /counter), acc=(running_acc/total))\n",
        "    return running_acc/total"
      ],
      "metadata": {
        "id": "G489ZuAaRxSZ"
      },
      "execution_count": 23,
      "outputs": []
    },
    {
      "cell_type": "code",
      "source": [
        "best_acc = 0\n",
        "beta, gamma = 1., 2.\n",
        "model.set_beta_gamma(beta, gamma)\n"
      ],
      "metadata": {
        "id": "z-K3zvbOR2KM"
      },
      "execution_count": 24,
      "outputs": []
    },
    {
      "cell_type": "code",
      "source": [
        "remaining_before_pruning = []\n",
        "remaining_after_pruning = []\n",
        "valid_accuracy = []\n",
        "pruning_accuracy = []\n",
        "pruning_threshold = []\n",
        "# exact_zeros = []\n",
        "# exact_ones = []\n",
        "problems = []\n",
        "name = f'r164_c10_{str(np.round(Vc.item(),decimals=6))}_channel_ratio_pruned'\n",
        "if test_only == False:\n",
        "    for epoch in range(epochs):\n",
        "        print(f'Starting epoch {epoch + 1} / {epochs}')\n",
        "        model.unprune()\n",
        "        train(model, criterion, optimizer, epoch)\n",
        "        print(f'[{epoch + 1} / {epochs}] Validation before pruning')\n",
        "        acc = test(model, criterion, optimizer, \"val\", epoch)\n",
        "        remaining = model.get_remaining(steepness, budget_type).item()\n",
        "        remaining_before_pruning.append(remaining)\n",
        "        valid_accuracy.append(acc)\n",
        "        # exactly_zeros, exactly_ones = model.plot_zt()\n",
        "        # exact_zeros.append(exactly_zeros)\n",
        "        # exact_ones.append(exactly_ones)\n",
        "        \n",
        "        print(f'[{epoch + 1} / {epochs}] Validation after pruning')\n",
        "        threshold, problem = model.prune(Vc, budget_type)\n",
        "        acc = test(model, criterion, optimizer, \"val\", epoch)\n",
        "        remaining = model.get_remaining(steepness, budget_type).item()\n",
        "        pruning_accuracy.append(acc)\n",
        "        pruning_threshold.append(threshold)\n",
        "        remaining_after_pruning.append(remaining)\n",
        "        problems.append(problem)\n",
        "        \n",
        "        # \n",
        "        beta=min(6., beta+(0.1/b_inc))\n",
        "        gamma=min(256, gamma*(2**(1./g_inc)))\n",
        "        model.set_beta_gamma(beta, gamma)\n",
        "        print(\"Changed beta to\", beta, \"changed gamma to\", gamma)     \n",
        "        \n",
        "        if acc>best_acc:\n",
        "            print(\"**Saving checkpoint**\")\n",
        "            best_acc=acc\n",
        "            torch.save({\n",
        "                \"epoch\" : epoch+1,\n",
        "                \"beta\" : beta,\n",
        "                \"gamma\" : gamma,\n",
        "                \"prune_threshold\":threshold,\n",
        "                \"state_dict\" : model.state_dict(),\n",
        "                \"accuracy\" : acc,\n",
        "            }, f\"checkpoints/{name}.pth\")\n",
        "\n",
        "        df_data=np.array([remaining_before_pruning, remaining_after_pruning, valid_accuracy, pruning_accuracy, pruning_threshold, problems]).T\n",
        "        df = pd.DataFrame(df_data,columns = ['Remaining before pruning', 'Remaining after pruning', 'Valid accuracy', 'Pruning accuracy', 'Pruning threshold', 'problems'])\n",
        "        df.to_csv(f\"logs/{name}.csv\")"
      ],
      "metadata": {
        "colab": {
          "base_uri": "https://localhost:8080/"
        },
        "id": "E8MRmFUBR4mx",
        "outputId": "5a9cefc2-d9e2-4873-9d49-e2acacda9b1d"
      },
      "execution_count": 25,
      "outputs": [
        {
          "output_type": "stream",
          "name": "stdout",
          "text": [
            "Starting epoch 1 / 5\n"
          ]
        },
        {
          "output_type": "stream",
          "name": "stderr",
          "text": [
            "100%|██████████| 1407/1407 [17:57<00:00,  1.31it/s, loss=7.49]\n"
          ]
        },
        {
          "output_type": "stream",
          "name": "stdout",
          "text": [
            "[1 / 5] Validation before pruning\n"
          ]
        },
        {
          "output_type": "stream",
          "name": "stderr",
          "text": [
            "100%|██████████| 157/157 [00:35<00:00,  4.39it/s, acc=0.349, loss=2.9]\n"
          ]
        },
        {
          "output_type": "stream",
          "name": "stdout",
          "text": [
            "[1 / 5] Validation after pruning\n"
          ]
        },
        {
          "output_type": "stream",
          "name": "stderr",
          "text": [
            "100%|██████████| 157/157 [00:23<00:00,  6.69it/s, acc=0.0114, loss=279]\n"
          ]
        },
        {
          "output_type": "stream",
          "name": "stdout",
          "text": [
            "Changed beta to 1.02 changed gamma to 2.8284271247461903\n",
            "**Saving checkpoint**\n",
            "Starting epoch 2 / 5\n"
          ]
        },
        {
          "output_type": "stream",
          "name": "stderr",
          "text": [
            "100%|██████████| 1407/1407 [17:42<00:00,  1.32it/s, loss=3.07]\n"
          ]
        },
        {
          "output_type": "stream",
          "name": "stdout",
          "text": [
            "[2 / 5] Validation before pruning\n"
          ]
        },
        {
          "output_type": "stream",
          "name": "stderr",
          "text": [
            "100%|██████████| 157/157 [00:35<00:00,  4.40it/s, acc=0.456, loss=2.58]\n"
          ]
        },
        {
          "output_type": "stream",
          "name": "stdout",
          "text": [
            "[2 / 5] Validation after pruning\n"
          ]
        },
        {
          "output_type": "stream",
          "name": "stderr",
          "text": [
            "100%|██████████| 157/157 [00:22<00:00,  6.84it/s, acc=0.0084, loss=79]\n"
          ]
        },
        {
          "output_type": "stream",
          "name": "stdout",
          "text": [
            "Changed beta to 1.04 changed gamma to 4.000000000000001\n",
            "Starting epoch 3 / 5\n"
          ]
        },
        {
          "output_type": "stream",
          "name": "stderr",
          "text": [
            "100%|██████████| 1407/1407 [18:15<00:00,  1.28it/s, loss=3.03]\n"
          ]
        },
        {
          "output_type": "stream",
          "name": "stdout",
          "text": [
            "[3 / 5] Validation before pruning\n"
          ]
        },
        {
          "output_type": "stream",
          "name": "stderr",
          "text": [
            "100%|██████████| 157/157 [00:36<00:00,  4.30it/s, acc=0.475, loss=2.75]\n"
          ]
        },
        {
          "output_type": "stream",
          "name": "stdout",
          "text": [
            "[3 / 5] Validation after pruning\n"
          ]
        },
        {
          "output_type": "stream",
          "name": "stderr",
          "text": [
            "100%|██████████| 157/157 [00:24<00:00,  6.46it/s, acc=0.0158, loss=29.2]\n"
          ]
        },
        {
          "output_type": "stream",
          "name": "stdout",
          "text": [
            "Changed beta to 1.06 changed gamma to 5.6568542494923815\n",
            "**Saving checkpoint**\n",
            "Starting epoch 4 / 5\n"
          ]
        },
        {
          "output_type": "stream",
          "name": "stderr",
          "text": [
            "100%|██████████| 1407/1407 [18:13<00:00,  1.29it/s, loss=3.11]\n"
          ]
        },
        {
          "output_type": "stream",
          "name": "stdout",
          "text": [
            "[4 / 5] Validation before pruning\n"
          ]
        },
        {
          "output_type": "stream",
          "name": "stderr",
          "text": [
            "100%|██████████| 157/157 [00:35<00:00,  4.44it/s, acc=0.497, loss=2.93]\n"
          ]
        },
        {
          "output_type": "stream",
          "name": "stdout",
          "text": [
            "[4 / 5] Validation after pruning\n"
          ]
        },
        {
          "output_type": "stream",
          "name": "stderr",
          "text": [
            "100%|██████████| 157/157 [00:23<00:00,  6.71it/s, acc=0.0448, loss=12.9]\n"
          ]
        },
        {
          "output_type": "stream",
          "name": "stdout",
          "text": [
            "Changed beta to 1.08 changed gamma to 8.000000000000002\n",
            "**Saving checkpoint**\n",
            "Starting epoch 5 / 5\n"
          ]
        },
        {
          "output_type": "stream",
          "name": "stderr",
          "text": [
            "100%|██████████| 1407/1407 [17:39<00:00,  1.33it/s, loss=3.17]\n"
          ]
        },
        {
          "output_type": "stream",
          "name": "stdout",
          "text": [
            "[5 / 5] Validation before pruning\n"
          ]
        },
        {
          "output_type": "stream",
          "name": "stderr",
          "text": [
            "100%|██████████| 157/157 [00:35<00:00,  4.46it/s, acc=0.539, loss=2.91]\n"
          ]
        },
        {
          "output_type": "stream",
          "name": "stdout",
          "text": [
            "[5 / 5] Validation after pruning\n"
          ]
        },
        {
          "output_type": "stream",
          "name": "stderr",
          "text": [
            "100%|██████████| 157/157 [00:23<00:00,  6.77it/s, acc=0.0798, loss=7.09]\n"
          ]
        },
        {
          "output_type": "stream",
          "name": "stdout",
          "text": [
            "Changed beta to 1.1 changed gamma to 11.313708498984763\n",
            "**Saving checkpoint**\n"
          ]
        }
      ]
    },
    {
      "cell_type": "code",
      "source": [
        ""
      ],
      "metadata": {
        "id": "HJ8GHj4ISeng"
      },
      "execution_count": null,
      "outputs": []
    }
  ]
}